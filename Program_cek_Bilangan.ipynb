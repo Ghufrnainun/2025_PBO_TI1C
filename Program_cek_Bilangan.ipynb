{
  "nbformat": 4,
  "nbformat_minor": 0,
  "metadata": {
    "colab": {
      "provenance": [],
      "authorship_tag": "ABX9TyNKI/r/QXEi3CoqQhaQJL38",
      "include_colab_link": true
    },
    "kernelspec": {
      "name": "python3",
      "display_name": "Python 3"
    },
    "language_info": {
      "name": "python"
    }
  },
  "cells": [
    {
      "cell_type": "markdown",
      "metadata": {
        "id": "view-in-github",
        "colab_type": "text"
      },
      "source": [
        "<a href=\"https://colab.research.google.com/github/Ghufrnainun/2025_PBO_TI1C/blob/main/Program_cek_Bilangan.ipynb\" target=\"_parent\"><img src=\"https://colab.research.google.com/assets/colab-badge.svg\" alt=\"Open In Colab\"/></a>"
      ]
    },
    {
      "cell_type": "code",
      "execution_count": null,
      "metadata": {
        "colab": {
          "base_uri": "https://localhost:8080/"
        },
        "id": "oRGJPBvc0cYe",
        "outputId": "33f92a5f-396c-4508-ed8b-52515c21a2c7"
      },
      "outputs": [
        {
          "output_type": "stream",
          "name": "stdout",
          "text": [
            "===== Program Bilangan =====\n",
            "Masukkan angka: 9\n",
            "9 adalah bukan bilangan prima dan bilangan ganjil.\n"
          ]
        }
      ],
      "source": [
        "def Prime(angka):\n",
        "    if angka <= 1:\n",
        "        return \"bukan bilangan prima\"\n",
        "\n",
        "    for i in range(2, int(angka**0.5) + 1):\n",
        "        if angka % i == 0:\n",
        "            return \"bukan bilangan prima\"\n",
        "\n",
        "    return \"bilangan prima\"\n",
        "\n",
        "def genap(angka):\n",
        "    return \"bilangan genap\" if angka % 2 == 0 else \"bilangan ganjil\"\n",
        "\n",
        "print(\"===== Program Bilangan =====\")\n",
        "angka = int(input(\"Masukkan angka: \"))\n",
        "\n",
        "hasil_prima = Prime(angka)\n",
        "hasil_genap = genap(angka)\n",
        "\n",
        "print(f\"{angka} adalah {hasil_prima} dan {hasil_genap}.\")"
      ]
    }
  ]
}
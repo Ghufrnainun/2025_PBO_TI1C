{
  "nbformat": 4,
  "nbformat_minor": 0,
  "metadata": {
    "colab": {
      "provenance": [],
      "authorship_tag": "ABX9TyNjgTBxJhTf62Ccnx7C1Vr8",
      "include_colab_link": true
    },
    "kernelspec": {
      "name": "python3",
      "display_name": "Python 3"
    },
    "language_info": {
      "name": "python"
    }
  },
  "cells": [
    {
      "cell_type": "markdown",
      "metadata": {
        "id": "view-in-github",
        "colab_type": "text"
      },
      "source": [
        "<a href=\"https://colab.research.google.com/github/Ghufrnainun/2025_PBO_TI1C/blob/main/Program_BMI.ipynb\" target=\"_parent\"><img src=\"https://colab.research.google.com/assets/colab-badge.svg\" alt=\"Open In Colab\"/></a>"
      ]
    },
    {
      "cell_type": "code",
      "source": [
        "def hitung_BMI(berat, tinggi_cm):\n",
        "    tinggi_m = tinggi_cm / 100\n",
        "    bmi = berat / (tinggi_m ** 2)\n",
        "\n",
        "    if bmi < 18.5:\n",
        "        kategori = \"Underweight\"\n",
        "    elif 18.5 <= bmi < 25:\n",
        "        kategori = \"Normal\"\n",
        "    elif 25 <= bmi < 30:\n",
        "        kategori = \"Overweight\"\n",
        "    else:\n",
        "        kategori = \"Obesity\"\n",
        "\n",
        "    return bmi, kategori\n",
        "\n",
        "\n",
        "print(\"===== Kalkulator BMI =====\")\n",
        "berat = float(input(\"Masukkan berat badan Anda (kg): \"))\n",
        "tinggi_cm = float(input(\"Masukkan tinggi badan Anda (cm): \"))\n",
        "\n",
        "bmi, kategori = hitung_BMI(berat, tinggi_cm)\n",
        "\n",
        "print(f\"\\nBMI kamu adalah {bmi:.2f}\")\n",
        "print(f\"Kategori: {kategori}\")"
      ],
      "metadata": {
        "colab": {
          "base_uri": "https://localhost:8080/"
        },
        "id": "Wq7baeAFy49n",
        "outputId": "2c8f1b83-85a0-4ce0-d2d7-211b2e2a17c1"
      },
      "execution_count": 5,
      "outputs": [
        {
          "output_type": "stream",
          "name": "stdout",
          "text": [
            "===== Kalkulator BMI =====\n",
            "Masukkan berat badan Anda (kg): 70\n",
            "Masukkan tinggi badan Anda (cm): 173\n",
            "\n",
            "BMI kamu adalah 23.39\n",
            "Kategori: Normal\n"
          ]
        }
      ]
    }
  ]
}